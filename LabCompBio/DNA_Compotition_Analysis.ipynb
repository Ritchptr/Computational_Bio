{
 "cells": [
  {
   "cell_type": "code",
   "execution_count": 1,
   "metadata": {},
   "outputs": [],
   "source": [
    "import Bio.Seq\n",
    "\n",
    "seqA = (\"ATCGATGCTAGCTA\")\n",
    "seqB = (\"AGGGATCCACGTAC\")"
   ]
  },
  {
   "cell_type": "code",
   "execution_count": 2,
   "metadata": {},
   "outputs": [
    {
     "name": "stdout",
     "output_type": "stream",
     "text": [
      "42.857142857142854\n",
      "57.142857142857146\n"
     ]
    }
   ],
   "source": [
    "from Bio.SeqUtils import GC\n",
    "\n",
    "seqA_GC = GC(seqA)\n",
    "seqB_GC = GC(seqB)\n",
    "print(seqA_GC)\n",
    "print(seqB_GC)"
   ]
  },
  {
   "cell_type": "code",
   "execution_count": 4,
   "metadata": {},
   "outputs": [
    {
     "name": "stdout",
     "output_type": "stream",
     "text": [
      "57.142857142857146\n",
      "42.857142857142854\n"
     ]
    }
   ],
   "source": [
    "seqA_AT = 100-seqA_GC\n",
    "seqB_AT = 100-seqB_GC\n",
    "\n",
    "print(seqA_AT)\n",
    "print(seqB_AT)"
   ]
  },
  {
   "cell_type": "code",
   "execution_count": 9,
   "metadata": {},
   "outputs": [],
   "source": [
    "from Bio.SeqUtils import MeltingTemp, molecular_weight"
   ]
  },
  {
   "cell_type": "code",
   "execution_count": 8,
   "metadata": {},
   "outputs": [
    {
     "name": "stdout",
     "output_type": "stream",
     "text": [
      "40.0\n",
      "44.0\n"
     ]
    }
   ],
   "source": [
    "\n",
    "seqA_walace = MeltingTemp.Tm_Wallace(seqA)\n",
    "seqB_walace = MeltingTemp.Tm_Wallace(seqB)\n",
    "# seqA_walace = MeltingTemp.Tm_Wallace(seqA)\n",
    "\n",
    "print(seqA_walace)\n",
    "print(seqB_walace)\n"
   ]
  }
 ],
 "metadata": {
  "kernelspec": {
   "display_name": "computational_bio",
   "language": "python",
   "name": "python3"
  },
  "language_info": {
   "codemirror_mode": {
    "name": "ipython",
    "version": 3
   },
   "file_extension": ".py",
   "mimetype": "text/x-python",
   "name": "python",
   "nbconvert_exporter": "python",
   "pygments_lexer": "ipython3",
   "version": "3.12.3"
  }
 },
 "nbformat": 4,
 "nbformat_minor": 2
}
