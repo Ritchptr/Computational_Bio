{
 "cells": [
  {
   "cell_type": "code",
   "execution_count": 15,
   "metadata": {},
   "outputs": [],
   "source": [
    "import Bio.Seq\n",
    "\n",
    "seqA = (\"ATCGATGCTAGCTA\")\n",
    "seqB = (\"AGGGATCCACGTAC\")"
   ]
  },
  {
   "cell_type": "code",
   "execution_count": 16,
   "metadata": {},
   "outputs": [
    {
     "name": "stdout",
     "output_type": "stream",
     "text": [
      "42.857142857142854\n",
      "57.142857142857146\n"
     ]
    }
   ],
   "source": [
    "#GC\n",
    "from Bio.SeqUtils import GC\n",
    "\n",
    "seqA_GC = GC(seqA)\n",
    "seqB_GC = GC(seqB)\n",
    "print(seqA_GC)\n",
    "print(seqB_GC)"
   ]
  },
  {
   "cell_type": "code",
   "execution_count": 17,
   "metadata": {},
   "outputs": [
    {
     "name": "stdout",
     "output_type": "stream",
     "text": [
      "57.142857142857146\n",
      "42.857142857142854\n"
     ]
    }
   ],
   "source": [
    "#AT\n",
    "seqA_AT = 100-seqA_GC\n",
    "seqB_AT = 100-seqB_GC\n",
    "\n",
    "print(seqA_AT)\n",
    "print(seqB_AT)"
   ]
  },
  {
   "cell_type": "code",
   "execution_count": 18,
   "metadata": {},
   "outputs": [],
   "source": [
    "from Bio.SeqUtils import MeltingTemp, molecular_weight"
   ]
  },
  {
   "cell_type": "code",
   "execution_count": 19,
   "metadata": {},
   "outputs": [
    {
     "name": "stdout",
     "output_type": "stream",
     "text": [
      "40.0\n",
      "44.0\n",
      "\n",
      "4342.7771999999995\n",
      "4352.778499999999\n"
     ]
    }
   ],
   "source": [
    "#Wallace\n",
    "seqA_walace = MeltingTemp.Tm_Wallace(seqA)\n",
    "seqB_walace = MeltingTemp.Tm_Wallace(seqB)\n",
    "\n",
    "print(seqA_walace)\n",
    "print(seqB_walace)\n",
    "\n",
    "print(\"\")\n",
    "#Molecular Weight\n",
    "\n",
    "print(molecular_weight(seqA))\n",
    "print(molecular_weight(seqB))"
   ]
  }
 ],
 "metadata": {
  "kernelspec": {
   "display_name": "computational_bio",
   "language": "python",
   "name": "python3"
  },
  "language_info": {
   "codemirror_mode": {
    "name": "ipython",
    "version": 3
   },
   "file_extension": ".py",
   "mimetype": "text/x-python",
   "name": "python",
   "nbconvert_exporter": "python",
   "pygments_lexer": "ipython3",
   "version": "3.12.3"
  }
 },
 "nbformat": 4,
 "nbformat_minor": 2
}
